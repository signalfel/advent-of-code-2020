{
 "cells": [
  {
   "cell_type": "code",
   "execution_count": 1,
   "metadata": {},
   "outputs": [],
   "source": [
    "import pandas as pd\n",
    "import numpy as np"
   ]
  },
  {
   "cell_type": "code",
   "execution_count": 165,
   "metadata": {},
   "outputs": [],
   "source": [
    "with open('input.txt') as inp:\n",
    "    data = inp.read().split('\\n\\n')"
   ]
  },
  {
   "cell_type": "code",
   "execution_count": 58,
   "metadata": {},
   "outputs": [],
   "source": [
    "test_data = '''ecl:gry pid:860033327 eyr:2020 hcl:#fffffd\n",
    "byr:1937 iyr:2017 cid:147 hgt:183cm\n",
    "\n",
    "iyr:2013 ecl:amb cid:350 eyr:2023 pid:028048884\n",
    "hcl:#cfa07d byr:1929\n",
    "\n",
    "hcl:#ae17e1 iyr:2013\n",
    "eyr:2024\n",
    "ecl:brn pid:760753108 byr:1931\n",
    "hgt:179cm\n",
    "\n",
    "hcl:#cfa07d eyr:2025 pid:166559648\n",
    "iyr:2011 ecl:brn hgt:59in'''.split('\\n\\n')"
   ]
  },
  {
   "cell_type": "code",
   "execution_count": 152,
   "metadata": {},
   "outputs": [],
   "source": [
    "def get_dataframe(data):\n",
    "    data = [st.replace('\\n', ' ') for st in data]\n",
    "    return pd.concat([pd.DataFrame({g.split(':')[0]:g.split(':')[1] for g in li.split(' ')}, index=[0]) for li in data], \n",
    "          ignore_index=True)"
   ]
  },
  {
   "cell_type": "code",
   "execution_count": 71,
   "metadata": {},
   "outputs": [],
   "source": [
    "df = get_dataframe(data)"
   ]
  },
  {
   "cell_type": "code",
   "execution_count": 72,
   "metadata": {},
   "outputs": [
    {
     "data": {
      "text/plain": [
       "260"
      ]
     },
     "execution_count": 72,
     "metadata": {},
     "output_type": "execute_result"
    }
   ],
   "source": [
    "len(df.dropna(subset=[c for c in df.columns if c!='cid']))"
   ]
  },
  {
   "cell_type": "markdown",
   "metadata": {},
   "source": [
    "## Part II"
   ]
  },
  {
   "cell_type": "code",
   "execution_count": 153,
   "metadata": {},
   "outputs": [],
   "source": [
    "test_data_invalid = '''eyr:1972 cid:100\n",
    "hcl:#18171d ecl:amb hgt:170 pid:186cm iyr:2018 byr:1926\n",
    "\n",
    "iyr:2019\n",
    "hcl:#602927 eyr:1967 hgt:170cm\n",
    "ecl:grn pid:012533040 byr:1946\n",
    "\n",
    "hcl:dab227 iyr:2012\n",
    "ecl:brn hgt:182cm pid:021572410 eyr:2020 byr:1992 cid:277\n",
    "\n",
    "hgt:59cm ecl:zzz\n",
    "eyr:2038 hcl:74454a iyr:2023\n",
    "pid:3556412378 byr:2007'''.split('\\n\\n')"
   ]
  },
  {
   "cell_type": "code",
   "execution_count": 158,
   "metadata": {},
   "outputs": [],
   "source": [
    "test_data_valid = '''pid:087499704 hgt:74in ecl:grn iyr:2012 eyr:2030 byr:1980\n",
    "hcl:#623a2f\n",
    "\n",
    "eyr:2029 ecl:blu cid:129 byr:1989\n",
    "iyr:2014 pid:896056539 hcl:#a97842 hgt:165cm\n",
    "\n",
    "hcl:#888785\n",
    "hgt:164cm byr:2001 iyr:2015 cid:88\n",
    "pid:545766238 ecl:hzl\n",
    "eyr:2022'''.split('\\n\\n')"
   ]
  },
  {
   "cell_type": "code",
   "execution_count": 166,
   "metadata": {},
   "outputs": [],
   "source": [
    "df = get_dataframe(data)"
   ]
  },
  {
   "cell_type": "code",
   "execution_count": 168,
   "metadata": {},
   "outputs": [],
   "source": [
    "has_valid_byr = df.byr.astype(float).between(1920, 2002)\n",
    "has_valid_iyr = df.iyr.astype(float).between(2010, 2020)\n",
    "has_valid_eyr = df.eyr.astype(float).between(2020, 2030)\n",
    "\n",
    "def height_fun(hei):\n",
    "    try:\n",
    "        un = hei[-2:]\n",
    "        if un=='cm':\n",
    "            num = float(hei[:-2])\n",
    "            return True if (num >= 150) and (num <= 193) else False\n",
    "        elif un =='in':\n",
    "            num = float(hei[:-2])\n",
    "            return True if (num >= 59) and (num <= 76) else False\n",
    "        else:\n",
    "            raise ValueError\n",
    "    except:\n",
    "        return False\n",
    "    \n",
    "has_valid_height = df.hgt.apply(height_fun)\n",
    "\n",
    "def hair_col_fun(hcol):\n",
    "    try:\n",
    "        if hcol.startswith('#'):\n",
    "            int(hcol[1:], 16)\n",
    "        else:\n",
    "            raise ValueError\n",
    "        \n",
    "        return True\n",
    "    except:\n",
    "        return False\n",
    "\n",
    "has_valid_hcl = df.hcl.apply(hair_col_fun)\n",
    "\n",
    "has_valid_ecl = df.ecl.isin(['amb', 'blu', 'brn', 'gry', 'grn', 'hzl', 'oth'])\n",
    "\n",
    "has_valid_pid = df.pid.str.isnumeric() & (df.pid.astype(str).apply(len)==9)"
   ]
  },
  {
   "cell_type": "code",
   "execution_count": 169,
   "metadata": {},
   "outputs": [],
   "source": [
    "valid_passports = (has_valid_byr & has_valid_iyr & has_valid_eyr & has_valid_height \n",
    "                   & has_valid_hcl & has_valid_ecl & has_valid_pid)"
   ]
  },
  {
   "cell_type": "code",
   "execution_count": 170,
   "metadata": {},
   "outputs": [
    {
     "data": {
      "text/plain": [
       "153"
      ]
     },
     "execution_count": 170,
     "metadata": {},
     "output_type": "execute_result"
    }
   ],
   "source": [
    "valid_passports.sum()"
   ]
  },
  {
   "cell_type": "code",
   "execution_count": null,
   "metadata": {},
   "outputs": [],
   "source": []
  }
 ],
 "metadata": {
  "kernelspec": {
   "display_name": "Python 3",
   "language": "python",
   "name": "python3"
  },
  "language_info": {
   "codemirror_mode": {
    "name": "ipython",
    "version": 3
   },
   "file_extension": ".py",
   "mimetype": "text/x-python",
   "name": "python",
   "nbconvert_exporter": "python",
   "pygments_lexer": "ipython3",
   "version": "3.7.3"
  }
 },
 "nbformat": 4,
 "nbformat_minor": 4
}
