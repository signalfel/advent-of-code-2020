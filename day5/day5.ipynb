{
 "cells": [
  {
   "cell_type": "code",
   "execution_count": 1,
   "metadata": {},
   "outputs": [],
   "source": [
    "import pandas as pd\n",
    "import numpy as np"
   ]
  },
  {
   "cell_type": "code",
   "execution_count": 2,
   "metadata": {},
   "outputs": [],
   "source": [
    "with open('input.txt') as inp:\n",
    "    data = inp.read().split('\\n')"
   ]
  },
  {
   "cell_type": "code",
   "execution_count": 28,
   "metadata": {},
   "outputs": [],
   "source": [
    "bp = 'FBFBBFFRLR'"
   ]
  },
  {
   "cell_type": "code",
   "execution_count": 38,
   "metadata": {},
   "outputs": [],
   "source": [
    "def raise_low(low, high):\n",
    "    return (low+(high+1-low)/2, high)\n",
    "def lower_high(low, high):\n",
    "    return (low, high-(high+1-low)/2)\n",
    "\n",
    "def decode_bpass(bpass):\n",
    "    low = 0\n",
    "    high = 127\n",
    "    for r in bpass[:7]:\n",
    "        low, high = raise_low(low, high) if r == 'B' else lower_high(low, high)\n",
    "    row = low if bpass[6] == 'F' else high\n",
    "    \n",
    "    low = 0\n",
    "    high = 7\n",
    "    for c in bpass[7:9]:\n",
    "        low, high = raise_low(low, high) if c == 'R' else lower_high(low, high)\n",
    "    col = low if bpass[9] == 'L' else high\n",
    "    \n",
    "    return row*8+col"
   ]
  },
  {
   "cell_type": "code",
   "execution_count": 36,
   "metadata": {},
   "outputs": [
    {
     "data": {
      "text/plain": [
       "357.0"
      ]
     },
     "execution_count": 36,
     "metadata": {},
     "output_type": "execute_result"
    }
   ],
   "source": [
    "decode_bpass('FBFBBFFRLR')"
   ]
  },
  {
   "cell_type": "code",
   "execution_count": 39,
   "metadata": {},
   "outputs": [
    {
     "data": {
      "text/plain": [
       "864.0"
      ]
     },
     "execution_count": 39,
     "metadata": {},
     "output_type": "execute_result"
    }
   ],
   "source": [
    "max([decode_bpass(bp) for bp in data])"
   ]
  },
  {
   "cell_type": "markdown",
   "metadata": {},
   "source": [
    "## Part II"
   ]
  },
  {
   "cell_type": "code",
   "execution_count": 10,
   "metadata": {},
   "outputs": [],
   "source": [
    "ids = pd.Series([decode_bpass(bp) for bp in data])"
   ]
  },
  {
   "cell_type": "code",
   "execution_count": 24,
   "metadata": {},
   "outputs": [
    {
     "data": {
      "text/plain": [
       "627    740.0\n",
       "dtype: float64"
      ]
     },
     "execution_count": 24,
     "metadata": {},
     "output_type": "execute_result"
    }
   ],
   "source": [
    "diffs = ids.sort_values().diff()\n",
    "ids.loc[diffs == 2]"
   ]
  },
  {
   "cell_type": "code",
   "execution_count": null,
   "metadata": {},
   "outputs": [],
   "source": [
    "# diff = 2 means the number before is 738 so my seat id is 739"
   ]
  },
  {
   "cell_type": "markdown",
   "metadata": {},
   "source": [
    "## Alternative with eval"
   ]
  },
  {
   "cell_type": "code",
   "execution_count": null,
   "metadata": {},
   "outputs": [],
   "source": [
    "def F(low, high):\n",
    "    return (low, high-(high+1-low)/2)\n",
    "def B(low, high):\n",
    "    return (low+(high+1-low)/2, high)\n",
    "\n",
    "def R(low, high):\n",
    "    return B(low, high)\n",
    "def L(low, high):\n",
    "    return F(low, high)\n",
    "\n",
    "def decode_bpass(bpass):\n",
    "    low = 0\n",
    "    high = 127\n",
    "    for r in bpass[:7]:\n",
    "        low, high = eval(f'{r}({low}, {high})')\n",
    "    row = low if bpass[6] == 'F' else high\n",
    "    \n",
    "    low = 0\n",
    "    high = 7\n",
    "    for c in bpass[7:9]:\n",
    "        low, high = eval(f'{c}({low}, {high})')\n",
    "    col = low if bpass[9] == 'L' else high\n",
    "    \n",
    "    return row*8+col"
   ]
  }
 ],
 "metadata": {
  "kernelspec": {
   "display_name": "Python 3",
   "language": "python",
   "name": "python3"
  },
  "language_info": {
   "codemirror_mode": {
    "name": "ipython",
    "version": 3
   },
   "file_extension": ".py",
   "mimetype": "text/x-python",
   "name": "python",
   "nbconvert_exporter": "python",
   "pygments_lexer": "ipython3",
   "version": "3.7.3"
  }
 },
 "nbformat": 4,
 "nbformat_minor": 4
}
