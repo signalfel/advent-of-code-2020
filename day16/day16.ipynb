{
 "cells": [
  {
   "cell_type": "code",
   "execution_count": 28,
   "metadata": {},
   "outputs": [],
   "source": [
    "import pandas as pd\n",
    "import re\n",
    "from functools import reduce"
   ]
  },
  {
   "cell_type": "code",
   "execution_count": 5,
   "metadata": {},
   "outputs": [],
   "source": [
    "def get_input(test_data=None):\n",
    "    data = test_data if test_data is not None else open('input.txt').read()\n",
    "    return [n for n in data.split('\\n\\n')]"
   ]
  },
  {
   "cell_type": "code",
   "execution_count": 6,
   "metadata": {},
   "outputs": [],
   "source": [
    "test_data = '''class: 1-3 or 5-7\n",
    "row: 6-11 or 33-44\n",
    "seat: 13-40 or 45-50\n",
    "\n",
    "your ticket:\n",
    "7,1,14\n",
    "\n",
    "nearby tickets:\n",
    "7,3,47\n",
    "40,4,50\n",
    "55,2,20\n",
    "38,6,12'''"
   ]
  },
  {
   "cell_type": "code",
   "execution_count": 129,
   "metadata": {},
   "outputs": [],
   "source": [
    "lines = get_input()\n",
    "\n",
    "rules = lines[0]\n",
    "my_ticket = [int(n) for n in lines[1].split('\\n')[1].split(',')]\n",
    "nearby_tickets = [[int(n) for n in tic.split(',')] for tic in lines[2].split('\\n')[1:]]"
   ]
  },
  {
   "cell_type": "code",
   "execution_count": 130,
   "metadata": {},
   "outputs": [],
   "source": [
    "df_nt = pd.DataFrame(nearby_tickets)"
   ]
  },
  {
   "cell_type": "code",
   "execution_count": 131,
   "metadata": {},
   "outputs": [],
   "source": [
    "split_rules = re.findall('(.*): ([0-9]*)-([0-9]*) or ([0-9]*)-([0-9]*)', rules)"
   ]
  },
  {
   "cell_type": "code",
   "execution_count": 132,
   "metadata": {},
   "outputs": [],
   "source": [
    "d_rules = {rule[0]:[int(n) for n in rule[1:]] for rule in split_rules}"
   ]
  },
  {
   "cell_type": "code",
   "execution_count": 133,
   "metadata": {},
   "outputs": [],
   "source": [
    "fulfils = df_nt.isna()\n",
    "for r in d_rules.values():\n",
    "    fulfils |= (((df_nt >= r[0]) & (df_nt <= r[1])) | (((df_nt >= r[2]) & (df_nt <= r[3]))))"
   ]
  },
  {
   "cell_type": "code",
   "execution_count": 134,
   "metadata": {},
   "outputs": [
    {
     "data": {
      "text/plain": [
       "19093.0"
      ]
     },
     "execution_count": 134,
     "metadata": {},
     "output_type": "execute_result"
    }
   ],
   "source": [
    "df_nt[~fulfils].sum().sum()"
   ]
  },
  {
   "cell_type": "markdown",
   "metadata": {},
   "source": [
    "## Part II"
   ]
  },
  {
   "cell_type": "code",
   "execution_count": 144,
   "metadata": {},
   "outputs": [],
   "source": [
    "df_rt = df_nt[fulfils.sum(axis=1) == len(nt.columns)]\n",
    "rule_cols = {}\n",
    "while True:\n",
    "    for rule,nums in d_rules.items():\n",
    "        fulfils_rt = (((df_rt >= nums[0]) & (df_rt <= nums[1])) | (((df_rt >= nums[2]) & (df_rt <= nums[3]))))\n",
    "        all_fulfilled = fulfils_rt.all() \n",
    "        if all_fulfilled.sum() == 1:\n",
    "            col = all_fulfilled[all_fulfilled].index[0]\n",
    "            rule_cols[rule] = col\n",
    "            df_rt = df_rt.drop(columns=col)\n",
    "    if df_rt.empty:\n",
    "        break"
   ]
  },
  {
   "cell_type": "code",
   "execution_count": 149,
   "metadata": {},
   "outputs": [],
   "source": [
    "dep_indices = [i for r,i in rule_cols.items() if 'departure' in r]"
   ]
  },
  {
   "cell_type": "code",
   "execution_count": 150,
   "metadata": {},
   "outputs": [
    {
     "data": {
      "text/plain": [
       "[19, 16, 10, 5, 11, 6]"
      ]
     },
     "execution_count": 150,
     "metadata": {},
     "output_type": "execute_result"
    }
   ],
   "source": [
    "dep_indices"
   ]
  },
  {
   "cell_type": "code",
   "execution_count": 154,
   "metadata": {},
   "outputs": [
    {
     "name": "stdout",
     "output_type": "stream",
     "text": [
      "5311123569883\n"
     ]
    }
   ],
   "source": [
    "print(reduce(lambda x,y: x*y, [my_ticket[ind] for ind in dep_indices]))"
   ]
  },
  {
   "cell_type": "code",
   "execution_count": null,
   "metadata": {},
   "outputs": [],
   "source": []
  }
 ],
 "metadata": {
  "kernelspec": {
   "display_name": "Python 3",
   "language": "python",
   "name": "python3"
  },
  "language_info": {
   "codemirror_mode": {
    "name": "ipython",
    "version": 3
   },
   "file_extension": ".py",
   "mimetype": "text/x-python",
   "name": "python",
   "nbconvert_exporter": "python",
   "pygments_lexer": "ipython3",
   "version": "3.7.3"
  }
 },
 "nbformat": 4,
 "nbformat_minor": 4
}
