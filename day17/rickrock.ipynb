{
 "cells": [
  {
   "cell_type": "code",
   "execution_count": 2,
   "metadata": {},
   "outputs": [
    {
     "name": "stdout",
     "output_type": "stream",
     "text": [
      "338\n",
      "2440\n"
     ]
    }
   ],
   "source": [
    "import itertools\n",
    " \n",
    "def get_neighbors3(pos, directions):\n",
    "    x,y,z=pos\n",
    "    neighbors = []\n",
    "    for dx, dy, dz in directions:\n",
    "        neighbors.append((x + dx, y + dy, z + dz))\n",
    "    return neighbors\n",
    " \n",
    "def get_neighbors4(pos, directions):\n",
    "    x,y,z,w=pos\n",
    "    neighbors = []\n",
    "    for dx, dy, dz, dw in directions:\n",
    "        neighbors.append((x + dx, y + dy, z + dz, w + dw))\n",
    "    return neighbors\n",
    " \n",
    "def step(active_cubes, get_neighbors, directions):\n",
    "    neighbors = set()\n",
    "    for c in active_cubes.keys():\n",
    "        ns = get_neighbors(c, directions)\n",
    "        for n in ns:\n",
    "            neighbors.add(n)\n",
    " \n",
    "    new_active_cubes = {}\n",
    "    for c in neighbors:\n",
    "        count = 0\n",
    "        for n in get_neighbors(c, directions):\n",
    "            if active_cubes.get(n, False):\n",
    "                count += 1\n",
    "        if active_cubes.get(c, False) and (count == 2 or count == 3):\n",
    "            new_active_cubes[c] = True\n",
    "        elif count == 3:\n",
    "            new_active_cubes[c] = True\n",
    "    return new_active_cubes, get_neighbors, directions\n",
    " \n",
    "lines = [line.strip() for line in open('input.txt')]\n",
    " \n",
    "directions = set(itertools.permutations([1, 1, 1, 0, 0, -1, -1, -1], 3))\n",
    " \n",
    "active_cubes = {}\n",
    "for y, line in enumerate(lines):\n",
    "    for x, v in enumerate(line):\n",
    "        if v == '#':\n",
    "            active_cubes[(x,y,0)] = True\n",
    " \n",
    "print(len(step(*step(*step(*step(*step(*step(active_cubes, get_neighbors3, directions))))))[0]))\n",
    " \n",
    "directions = set(itertools.permutations([1, 1, 1, 1, 0, 0, 0, -1, -1, -1, -1], 4))\n",
    "active_cubes = {}\n",
    "for y, line in enumerate(lines):\n",
    "    for x, v in enumerate(line):\n",
    "        if v == '#':\n",
    "            active_cubes[(x,y,0,0)] = True\n",
    " \n",
    "print(len(step(*step(*step(*step(*step(*step(active_cubes, get_neighbors4, directions))))))[0]))"
   ]
  },
  {
   "cell_type": "code",
   "execution_count": null,
   "metadata": {},
   "outputs": [],
   "source": []
  }
 ],
 "metadata": {
  "kernelspec": {
   "display_name": "Python 3",
   "language": "python",
   "name": "python3"
  },
  "language_info": {
   "codemirror_mode": {
    "name": "ipython",
    "version": 3
   },
   "file_extension": ".py",
   "mimetype": "text/x-python",
   "name": "python",
   "nbconvert_exporter": "python",
   "pygments_lexer": "ipython3",
   "version": "3.7.3"
  }
 },
 "nbformat": 4,
 "nbformat_minor": 4
}
