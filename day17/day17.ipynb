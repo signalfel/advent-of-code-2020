{
 "cells": [
  {
   "cell_type": "code",
   "execution_count": 2,
   "metadata": {},
   "outputs": [],
   "source": [
    "from IPython.core.debugger import set_trace\n",
    "import copy\n",
    "from timeit import default_timer as timer"
   ]
  },
  {
   "cell_type": "code",
   "execution_count": 313,
   "metadata": {},
   "outputs": [],
   "source": [
    "def get_input(test_data=None, dim=2):\n",
    "    data = test_data if test_data is not None else open('input.txt').read()\n",
    "    state = {}\n",
    "    lists = [list(n) for n in data.split('\\n')]\n",
    "    for i in range(len(lists)):\n",
    "        for j in range(len(lists[0])):\n",
    "            tup = (i, j, 0) if dim==2 else (i,j,0,0)\n",
    "            state[tup] = (lists[i][j] == '#')\n",
    "    return state"
   ]
  },
  {
   "cell_type": "code",
   "execution_count": 235,
   "metadata": {},
   "outputs": [],
   "source": [
    "def get_input_2(test_data=None):\n",
    "    data = test_data if test_data is not None else open('input.txt').read()\n",
    "    state = {}\n",
    "    lists = [list(n) for n in data.split('\\n')]\n",
    "    for i in range(len(lists)):\n",
    "        for j in range(len(lists[0])):\n",
    "            state[(i, j, 0, 0)] = (lists[i][j] == '#')\n",
    "    return state"
   ]
  },
  {
   "cell_type": "raw",
   "metadata": {},
   "source": [
    ".#.\n",
    "..#\n",
    "###"
   ]
  },
  {
   "cell_type": "code",
   "execution_count": 187,
   "metadata": {},
   "outputs": [],
   "source": [
    "test_data = '''.#.\n",
    "..#\n",
    "###'''"
   ]
  },
  {
   "cell_type": "code",
   "execution_count": 188,
   "metadata": {},
   "outputs": [],
   "source": [
    "state = get_input()"
   ]
  },
  {
   "cell_type": "code",
   "execution_count": 189,
   "metadata": {},
   "outputs": [
    {
     "data": {
      "text/plain": [
       "{(0, 0, 0): False,\n",
       " (0, 1, 0): True,\n",
       " (0, 2, 0): False,\n",
       " (1, 0, 0): False,\n",
       " (1, 1, 0): False,\n",
       " (1, 2, 0): True,\n",
       " (2, 0, 0): True,\n",
       " (2, 1, 0): True,\n",
       " (2, 2, 0): True}"
      ]
     },
     "execution_count": 189,
     "metadata": {},
     "output_type": "execute_result"
    }
   ],
   "source": [
    "get_input(test_data)"
   ]
  },
  {
   "cell_type": "code",
   "execution_count": 309,
   "metadata": {},
   "outputs": [],
   "source": [
    "def make_closure(n):\n",
    "    if len(n) == 3:\n",
    "        return lambda i,j,k: (i+n[0], j+n[1], k+n[2])\n",
    "    elif len(n) == 4:\n",
    "        return lambda i,j,k,l: (i+n[0], j+n[1], k+n[2], l+n[3])\n",
    "    else:\n",
    "        raise NotImplementedError\n",
    "        \n",
    "def prepare_dict(dim):\n",
    "    nei_dict = {}\n",
    "    for s,n in enumerate(itertools.product([1, 0, -1], repeat=dim)):\n",
    "        if n!=tuple([0]*dim):\n",
    "            nei_dict[s] = make_closure(n)\n",
    "    return nei_dict\n",
    "\n",
    "def get_neighbour_indices(i, j, k, neighbour_dict):\n",
    "    return [f(i,j,k) for d,f in neighbour_dict.items()]\n",
    "\n",
    "def add_neighbours(state, neighbour_dict):\n",
    "    new_state = state.copy()\n",
    "    for point in state.keys():\n",
    "        for tup in get_neighbour_indices(*point, neighbour_dict):\n",
    "            if not tup in state.keys():\n",
    "                new_state[tup] = False\n",
    "    return new_state"
   ]
  },
  {
   "cell_type": "code",
   "execution_count": 252,
   "metadata": {},
   "outputs": [],
   "source": [
    "nebs3 = [n for n in itertools.product([1, 0, -1], repeat=3) if n!=(0,0,0)]\n",
    "def get_neighbour_indices(i, j, k):\n",
    "    pt = np.array([i, j, k])\n",
    "    return [tuple(pt+n) for n in nebs3]"
   ]
  },
  {
   "cell_type": "code",
   "execution_count": 233,
   "metadata": {},
   "outputs": [],
   "source": [
    "nebs4 = list(itertools.product([1, 0, -1], repeat=4))\n",
    "def get_neighbour_indices_4(i, j, k, l):\n",
    "    pt = np.array([i, j, k, l])\n",
    "    return [tuple(pt+n) for n in nebs4 if n != (0,0,0,0)]"
   ]
  },
  {
   "cell_type": "code",
   "execution_count": 248,
   "metadata": {},
   "outputs": [],
   "source": [
    "def print_layer(state, z):\n",
    "    layer = {(k[0], k[1]):'#' if v else '.' for k,v in state.items() if k[2]==z}\n",
    "    min_r = min([tup[0] for tup in layer.keys()])\n",
    "    max_r = max([tup[0] for tup in layer.keys()])\n",
    "    min_c = min([tup[1] for tup in layer.keys()])\n",
    "    max_c = max([tup[1] for tup in layer.keys()])\n",
    "    for r in range(min_r, max_r+1):\n",
    "        print(''.join([layer[(r,c)] for c in range(min_c, max_c+1)]))\n",
    "            \n",
    "\n",
    "neighbour_dict = {'dnw': lambda i,j,k: (i-1, j-1,k-1), 'dn': lambda i,j,k: (i-1, j,k-1), 'dne': lambda i,j,k: (i-1, j+1,k-1),\n",
    "              'dw': lambda i,j,k: (i, j-1,k-1), 'de': lambda i,j,k: (i, j+1,k-1), 'dsw': lambda i,j,k: (i+1, j-1,k-1), \n",
    "              'ds': lambda i,j,k: (i+1, j,k-1), 'dse': lambda i,j,k: (i+1, j+1,k-1), 'd': lambda i,j,k: (i, j,k-1),\n",
    "              \n",
    "             'nw': lambda i,j,k: (i-1, j-1,k), 'n': lambda i,j,k: (i-1, j,k), 'ne': lambda i,j,k: (i-1, j+1,k),\n",
    "              'w': lambda i,j,k: (i, j-1,k), 'e': lambda i,j,k: (i, j+1,k), 'sw': lambda i,j,k: (i+1, j-1,k), \n",
    "              's': lambda i,j,k: (i+1, j,k), 'se': lambda i,j,k: (i+1, j+1,k),\n",
    "             \n",
    "              'unw': lambda i,j,k: (i-1, j-1,k+1), 'un': lambda i,j,k: (i-1, j,k+1), 'une': lambda i,j,k: (i-1, j+1,k+1),\n",
    "              'uw': lambda i,j,k: (i, j-1,k+1), 'ue': lambda i,j,k: (i, j+1,k+1), 'usw': lambda i,j,k: (i+1, j-1,k+1), \n",
    "              'bs': lambda i,j,k: (i+1, j,k+1), 'use': lambda i,j,k: (i+1, j+1,k+1), 'u': lambda i,j,k: (i, j,k+1),\n",
    "             }\n",
    "\n",
    "def get_neighbour_indices(i, j, k):\n",
    "    return [f(i,j,k) for d,f in neighbour_dict.items()]\n",
    "\n",
    "def add_neighbours(state):\n",
    "    new_state = state.copy()\n",
    "    for point in state.keys():\n",
    "        for tup in get_neighbour_indices(*point):\n",
    "            if not tup in state.keys():\n",
    "                new_state[tup] = False\n",
    "    return new_state"
   ]
  },
  {
   "cell_type": "code",
   "execution_count": 231,
   "metadata": {},
   "outputs": [],
   "source": [
    "state = get_input(test_data)\n",
    "new_state = {}\n",
    "for i in range(6):\n",
    "    state = add_neighbours(state)\n",
    "    new_state = state.copy()\n",
    "    for point, is_active in state.items():\n",
    "        n_active = 0\n",
    "        for tup in get_neighbour_indices(*point):\n",
    "            if tup in state.keys():\n",
    "                n_active += state[tup]\n",
    "            \n",
    "        if is_active and n_active not in [2, 3]:\n",
    "            new_state[point] = False\n",
    "        elif ~is_active and n_active == 3:\n",
    "            new_state[point] = True\n",
    "    state = new_state.copy()"
   ]
  },
  {
   "cell_type": "code",
   "execution_count": 232,
   "metadata": {},
   "outputs": [
    {
     "name": "stdout",
     "output_type": "stream",
     "text": [
      "112\n"
     ]
    }
   ],
   "source": [
    " print(sum([v for v in state.values()]))"
   ]
  },
  {
   "cell_type": "code",
   "execution_count": 310,
   "metadata": {},
   "outputs": [
    {
     "name": "stdout",
     "output_type": "stream",
     "text": [
      "338\n",
      "0.8 sec\n"
     ]
    }
   ],
   "source": [
    "t0 = timer()\n",
    "state = get_input()\n",
    "new_state = {}\n",
    "t_add_n = 0\n",
    "t_get_active = 0\n",
    "n_add_n = 0\n",
    "n_get_active = 0\n",
    "\n",
    "neighbour_dict = prepare_dict(3)\n",
    "for i in range(6):\n",
    "    t1 = timer()\n",
    "    state = add_neighbours(state, neighbour_dict)\n",
    "    t_add_n += timer()- t1\n",
    "    n_add_n += 1\n",
    "    new_state = state.copy()\n",
    "    for point, is_active in state.items():\n",
    "        n_active = 0\n",
    "        t1 = timer()\n",
    "        for tup in get_neighbour_indices(*point, neighbour_dict):\n",
    "            if tup in state.keys():\n",
    "                n_active += state[tup]\n",
    "        t_get_active += timer()-t1\n",
    "        n_get_active += 1\n",
    "        \n",
    "        if is_active and n_active not in [2, 3]:\n",
    "            new_state[point] = False\n",
    "        elif ~is_active and n_active == 3:\n",
    "            new_state[point] = True\n",
    "    state = new_state.copy()\n",
    "\n",
    "print(sum([v for v in state.values()]))\n",
    "print(f'{round(timer()-t0, 1)} sec')"
   ]
  },
  {
   "cell_type": "markdown",
   "metadata": {},
   "source": [
    "## Part II"
   ]
  },
  {
   "cell_type": "code",
   "execution_count": 237,
   "metadata": {},
   "outputs": [],
   "source": [
    "def add_neighbours_4(state):\n",
    "    new_state = state.copy()\n",
    "    for point in state.keys():\n",
    "        for tup in get_neighbour_indices_4(*point):\n",
    "            if not tup in state.keys():\n",
    "                new_state[tup] = False\n",
    "    return new_state"
   ]
  },
  {
   "cell_type": "code",
   "execution_count": 245,
   "metadata": {},
   "outputs": [
    {
     "name": "stdout",
     "output_type": "stream",
     "text": [
      "2440\n",
      "162.5 sec\n",
      "add neighbours: 53.1 sec for 6 times\n",
      "get active neighbours: 53.1 sec for 141644 times\n"
     ]
    }
   ],
   "source": [
    "t0 = timer()\n",
    "state = get_input_2()\n",
    "new_state = {}\n",
    "t_add_n = 0\n",
    "t_get_active = 0\n",
    "n_add_n = 0\n",
    "n_get_active = 0\n",
    "for i in range(6):\n",
    "    t1 = timer()\n",
    "    state = add_neighbours_4(state)\n",
    "    t_add_n += timer()- t1\n",
    "    n_add_n += 1\n",
    "    new_state = state.copy()\n",
    "    for point, is_active in state.items():\n",
    "        n_active = 0\n",
    "        t1 = timer()\n",
    "        for tup in get_neighbour_indices_4(*point):\n",
    "            if tup in state.keys():\n",
    "                n_active += state[tup]\n",
    "        t_get_active += timer()-t1\n",
    "        n_get_active += 1\n",
    "        \n",
    "        if is_active and n_active not in [2, 3]:\n",
    "            new_state[point] = False\n",
    "        elif ~is_active and n_active == 3:\n",
    "            new_state[point] = True\n",
    "    state = new_state.copy()\n",
    "\n",
    "print(sum([v for v in state.values()]))\n",
    "print(f'{round(timer()-t0, 1)} sec')"
   ]
  },
  {
   "cell_type": "code",
   "execution_count": 246,
   "metadata": {},
   "outputs": [
    {
     "name": "stdout",
     "output_type": "stream",
     "text": [
      "add neighbours: 53.1 sec for 6 times\n",
      "get active neighbours: 109.1 sec for 141644 times\n"
     ]
    }
   ],
   "source": [
    "print(f'add neighbours: {round(t_add_n, 1)} sec for {n_add_n} times')\n",
    "print(f'get active neighbours: {round(t_get_active, 1)} sec for {n_get_active} times')"
   ]
  },
  {
   "cell_type": "markdown",
   "metadata": {},
   "source": [
    "# Better solution!"
   ]
  },
  {
   "cell_type": "code",
   "execution_count": 34,
   "metadata": {},
   "outputs": [],
   "source": [
    "import itertools\n",
    "from timeit import default_timer as timer\n",
    "\n",
    "def get_input(test_data=None, dim=3):\n",
    "    data = test_data if test_data is not None else open('input.txt').read()\n",
    "    state = {}\n",
    "    lists = [list(n) for n in data.split('\\n')]\n",
    "    for i in range(len(lists)):\n",
    "        for j in range(len(lists[0])):\n",
    "            tup = (i, j, 0) if dim==3 else (i,j,0,0)\n",
    "            state[tup] = (lists[i][j] == '#')\n",
    "    return state\n",
    "\n",
    "def make_closure(n):\n",
    "    if len(n) == 3:\n",
    "        return lambda i,j,k: (i+n[0], j+n[1], k+n[2])\n",
    "    elif len(n) == 4:\n",
    "        return lambda i,j,k,l: (i+n[0], j+n[1], k+n[2], l+n[3])\n",
    "    else:\n",
    "        raise NotImplementedError\n",
    "        \n",
    "def prepare_dict(dim):\n",
    "    nei_dict = {}\n",
    "    for s,n in enumerate(itertools.product([1, 0, -1], repeat=dim)):\n",
    "        if n!=tuple([0]*dim):\n",
    "            nei_dict[s] = make_closure(n)\n",
    "    return nei_dict\n",
    "\n",
    "def get_neighbour_indices(point, neighbour_dict):\n",
    "    return [f(*point) for f in neighbour_dict.values()]\n",
    "\n",
    "def add_neighbours(state, neighbour_dict):\n",
    "    new_state = state.copy()\n",
    "    for point in state.keys():\n",
    "        for tup in get_neighbour_indices(point, neighbour_dict):\n",
    "            if not tup in state.keys():\n",
    "                new_state[tup] = False\n",
    "    return new_state\n",
    "\n",
    "def solve(dim):\n",
    "    state = get_input(dim=dim)\n",
    "    neighbour_dict = prepare_dict(dim)\n",
    "    \n",
    "    for i in range(6):\n",
    "        state = add_neighbours(state, neighbour_dict)\n",
    "        new_state = state.copy()\n",
    "        for point, is_active in state.items():\n",
    "            n_active = 0\n",
    "            for tup in get_neighbour_indices(point, neighbour_dict):\n",
    "                if tup in state.keys():\n",
    "                    n_active += state[tup]\n",
    "\n",
    "            if is_active and n_active not in [2, 3]:\n",
    "                new_state[point] = False\n",
    "            elif ~is_active and n_active == 3:\n",
    "                new_state[point] = True\n",
    "        state = new_state.copy()\n",
    "    \n",
    "    return sum([v for v in state.values()])\n",
    "    "
   ]
  },
  {
   "cell_type": "code",
   "execution_count": 35,
   "metadata": {},
   "outputs": [
    {
     "data": {
      "text/plain": [
       "338"
      ]
     },
     "execution_count": 35,
     "metadata": {},
     "output_type": "execute_result"
    }
   ],
   "source": [
    "solve(dim=3)"
   ]
  },
  {
   "cell_type": "markdown",
   "metadata": {},
   "source": [
    "## Part II"
   ]
  },
  {
   "cell_type": "code",
   "execution_count": 36,
   "metadata": {},
   "outputs": [
    {
     "data": {
      "text/plain": [
       "2440"
      ]
     },
     "execution_count": 36,
     "metadata": {},
     "output_type": "execute_result"
    }
   ],
   "source": [
    "solve(dim=4)"
   ]
  },
  {
   "cell_type": "code",
   "execution_count": null,
   "metadata": {},
   "outputs": [],
   "source": []
  },
  {
   "cell_type": "code",
   "execution_count": null,
   "metadata": {},
   "outputs": [],
   "source": []
  }
 ],
 "metadata": {
  "kernelspec": {
   "display_name": "Python 3",
   "language": "python",
   "name": "python3"
  },
  "language_info": {
   "codemirror_mode": {
    "name": "ipython",
    "version": 3
   },
   "file_extension": ".py",
   "mimetype": "text/x-python",
   "name": "python",
   "nbconvert_exporter": "python",
   "pygments_lexer": "ipython3",
   "version": "3.7.3"
  }
 },
 "nbformat": 4,
 "nbformat_minor": 4
}
