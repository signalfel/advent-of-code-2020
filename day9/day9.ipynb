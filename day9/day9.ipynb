{
 "cells": [
  {
   "cell_type": "code",
   "execution_count": 1,
   "metadata": {},
   "outputs": [],
   "source": [
    "from IPython.core.debugger import set_trace"
   ]
  },
  {
   "cell_type": "code",
   "execution_count": 62,
   "metadata": {},
   "outputs": [],
   "source": [
    "def get_input(test_data=None):\n",
    "    data = test_data if test_data is not None else open('input.txt').read()\n",
    "    return [int(n) for n in data.split('\\n')]"
   ]
  },
  {
   "cell_type": "code",
   "execution_count": 2,
   "metadata": {},
   "outputs": [],
   "source": [
    "test_data = '''35\n",
    "20\n",
    "15\n",
    "25\n",
    "47\n",
    "40\n",
    "62\n",
    "55\n",
    "65\n",
    "95\n",
    "102\n",
    "117\n",
    "150\n",
    "182\n",
    "127\n",
    "219\n",
    "299\n",
    "277\n",
    "309\n",
    "576'''"
   ]
  },
  {
   "cell_type": "code",
   "execution_count": 11,
   "metadata": {},
   "outputs": [],
   "source": [
    "nums = get_input(test_data)"
   ]
  },
  {
   "cell_type": "code",
   "execution_count": 35,
   "metadata": {},
   "outputs": [],
   "source": [
    "import itertools\n",
    "\n",
    "def check_chunk(chunk):\n",
    "    n = len(chunk)-1\n",
    "    combs = itertools.combinations(chunk[:n], 2)\n",
    "    for c in combs:\n",
    "        if sum(c) == chunk[-1]:\n",
    "            return True\n",
    "    return False"
   ]
  },
  {
   "cell_type": "code",
   "execution_count": 43,
   "metadata": {},
   "outputs": [],
   "source": [
    "def chunks(nums, n):\n",
    "    for pos in range(0, len(nums)-n):\n",
    "        yield nums[pos:pos+n+1]"
   ]
  },
  {
   "cell_type": "code",
   "execution_count": 48,
   "metadata": {},
   "outputs": [],
   "source": [
    "def get_invalid_number(iter_chunks):\n",
    "    for c in iter_chunks:\n",
    "        if not check_chunk(c):\n",
    "            return c[-1]"
   ]
  },
  {
   "cell_type": "code",
   "execution_count": 53,
   "metadata": {},
   "outputs": [
    {
     "data": {
      "text/plain": [
       "552655238"
      ]
     },
     "execution_count": 53,
     "metadata": {},
     "output_type": "execute_result"
    }
   ],
   "source": [
    "nums = get_input()\n",
    "n = 25\n",
    "\n",
    "get_invalid_number(chunks(nums, n))"
   ]
  },
  {
   "cell_type": "markdown",
   "metadata": {},
   "source": [
    "## Part II"
   ]
  },
  {
   "cell_type": "code",
   "execution_count": 60,
   "metadata": {},
   "outputs": [
    {
     "name": "stdout",
     "output_type": "stream",
     "text": [
      "70672245\n"
     ]
    }
   ],
   "source": [
    "nums = get_input()\n",
    "invalid_number = get_invalid_number(chunks(nums, 25))\n",
    "\n",
    "n_contiguous = 3\n",
    "found = False\n",
    "while not found:\n",
    "    for c in chunks(nums, n_contiguous-1):\n",
    "        if sum(c) == invalid_number:\n",
    "            found = True\n",
    "            print(min(c) + max(c))\n",
    "            break\n",
    "            \n",
    "    n_contiguous += 1  \n",
    "    "
   ]
  }
 ],
 "metadata": {
  "kernelspec": {
   "display_name": "Python 3",
   "language": "python",
   "name": "python3"
  },
  "language_info": {
   "codemirror_mode": {
    "name": "ipython",
    "version": 3
   },
   "file_extension": ".py",
   "mimetype": "text/x-python",
   "name": "python",
   "nbconvert_exporter": "python",
   "pygments_lexer": "ipython3",
   "version": "3.7.3"
  }
 },
 "nbformat": 4,
 "nbformat_minor": 4
}
