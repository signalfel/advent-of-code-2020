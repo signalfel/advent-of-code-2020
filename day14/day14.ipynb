{
 "cells": [
  {
   "cell_type": "code",
   "execution_count": 2,
   "metadata": {},
   "outputs": [],
   "source": [
    "from IPython.core.debugger import set_trace\n",
    "import pandas as pd\n",
    "import itertools\n",
    "from timeit import default_timer as timer"
   ]
  },
  {
   "cell_type": "code",
   "execution_count": 3,
   "metadata": {},
   "outputs": [],
   "source": [
    "def get_input(test_data=None):\n",
    "    data = test_data if test_data is not None else open('input.txt').read()\n",
    "    return [n for n in data.split('\\n')]"
   ]
  },
  {
   "cell_type": "code",
   "execution_count": 4,
   "metadata": {},
   "outputs": [],
   "source": [
    "test_data = '''mask = XXXXXXXXXXXXXXXXXXXXXXXXXXXXX1XXXX0X\n",
    "mem[8] = 11\n",
    "mem[7] = 101\n",
    "mem[8] = 0'''"
   ]
  },
  {
   "cell_type": "code",
   "execution_count": 5,
   "metadata": {},
   "outputs": [],
   "source": [
    "def get_masks(mask):\n",
    "    and_mask = \"\".join(['0' if c == '0' else '1' for c in mask])\n",
    "    or_mask = \"\".join(['1' if c == '1' else '0' for c in mask])\n",
    "    return int(and_mask,2), int(or_mask,2)"
   ]
  },
  {
   "cell_type": "code",
   "execution_count": 6,
   "metadata": {},
   "outputs": [
    {
     "name": "stdout",
     "output_type": "stream",
     "text": [
      "12610010960049\n"
     ]
    }
   ],
   "source": [
    "lines = get_input()\n",
    "\n",
    "mem = {}\n",
    "and_mask, or_mask = get_masks('X'*36)\n",
    "\n",
    "for line in lines:\n",
    "    if line[:4] == 'mask':\n",
    "        and_mask, or_mask = get_masks(line[7:])\n",
    "    else:\n",
    "        s = line.split(' ')\n",
    "        addr = int(s[0][4:-1])\n",
    "        val = int(s[-1])\n",
    "        mem[addr] = or_mask | (and_mask & val)\n",
    "\n",
    "print(sum([v for v in mem.values()]))"
   ]
  },
  {
   "cell_type": "markdown",
   "metadata": {},
   "source": [
    "## Part II"
   ]
  },
  {
   "cell_type": "code",
   "execution_count": 7,
   "metadata": {},
   "outputs": [],
   "source": [
    "def get_masks_part_2(mask):\n",
    "    or_mask = \"\".join(['1' if c == '1' else '0' for c in mask])\n",
    "    floating_bits = [i for i,b in enumerate(mask) if b=='X']\n",
    "    return int(or_mask,2), floating_bits"
   ]
  },
  {
   "cell_type": "code",
   "execution_count": 31,
   "metadata": {},
   "outputs": [
    {
     "name": "stdout",
     "output_type": "stream",
     "text": [
      "3608464522781\n",
      "1.5214132999999492\n"
     ]
    }
   ],
   "source": [
    "t0 = timer()\n",
    "lines = get_input()\n",
    "\n",
    "mem = {}\n",
    "\n",
    "t_ma = 0\n",
    "t_mem = 0\n",
    "\n",
    "for line in lines:\n",
    "\n",
    "    if line[:4] == 'mask':\n",
    "        or_mask, floating_bits = get_masks_part_2(line[7:])\n",
    "    else:\n",
    "        s = line.split(' ')\n",
    "        addr = int(s[0][4:-1])\n",
    "        val = int(s[-1])\n",
    "        \n",
    "        bin_addr = f'{or_mask|addr:036b}'\n",
    "        for comb in itertools.product(['0', '1'], repeat=len(floating_bits)):\n",
    "            \n",
    "            combc = itertools.chain(comb)\n",
    "            masked_addr = \"\".join([next(combc) if i in floating_bits else b for i,b in enumerate(bin_addr)])\n",
    "            mem[masked_addr] = val\n",
    "    \n",
    "\n",
    "print(sum([v for v in mem.values()]))\n",
    "print(timer()-t0)"
   ]
  }
 ],
 "metadata": {
  "kernelspec": {
   "display_name": "Python 3",
   "language": "python",
   "name": "python3"
  },
  "language_info": {
   "codemirror_mode": {
    "name": "ipython",
    "version": 3
   },
   "file_extension": ".py",
   "mimetype": "text/x-python",
   "name": "python",
   "nbconvert_exporter": "python",
   "pygments_lexer": "ipython3",
   "version": "3.7.3"
  }
 },
 "nbformat": 4,
 "nbformat_minor": 4
}
