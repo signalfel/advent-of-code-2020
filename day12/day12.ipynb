{
 "cells": [
  {
   "cell_type": "code",
   "execution_count": 51,
   "metadata": {},
   "outputs": [],
   "source": [
    "import numpy as np\n",
    "from numpy import cos, sin\n",
    "from IPython.core.debugger import set_trace"
   ]
  },
  {
   "cell_type": "code",
   "execution_count": 1,
   "metadata": {},
   "outputs": [],
   "source": [
    "def get_input(test_data=None):\n",
    "    data = test_data if test_data is not None else open('input.txt').read()\n",
    "    return [n for n in data.split('\\n')]"
   ]
  },
  {
   "cell_type": "code",
   "execution_count": 2,
   "metadata": {},
   "outputs": [],
   "source": [
    "test_data = '''F10\n",
    "N3\n",
    "F7\n",
    "R90\n",
    "F11'''"
   ]
  },
  {
   "cell_type": "code",
   "execution_count": 52,
   "metadata": {},
   "outputs": [
    {
     "name": "stdout",
     "output_type": "stream",
     "text": [
      "757\n"
     ]
    }
   ],
   "source": [
    "directions = {0: 'E', 90: 'N', 180: 'W', 270: 'S'}\n",
    "\n",
    "def move(pos, ac, n):\n",
    "    if ac == 'N':\n",
    "        pos[0] += n\n",
    "    elif ac == 'S':\n",
    "        pos[0] -= n\n",
    "    elif ac == 'W':\n",
    "        pos[1] -= n\n",
    "    elif ac == 'E':\n",
    "        pos[1] += n\n",
    "    \n",
    "    return pos\n",
    "\n",
    "def make_move(pos, inst):\n",
    "    ac = inst[0]\n",
    "    n = int(inst[1:])\n",
    "    if ac == 'F':\n",
    "        ac = directions[pos[2]]\n",
    "        pos = move(pos, ac, n)\n",
    "    elif ac == 'R':\n",
    "        pos[2] -= n\n",
    "        pos[2] = pos[2]%360\n",
    "    elif ac == 'L':\n",
    "        pos[2] += n\n",
    "        pos[2] = pos[2]%360\n",
    "    else:\n",
    "        pos = move(pos, ac, n)\n",
    "    \n",
    "    return pos\n",
    "    \n",
    "\n",
    "instructions = get_input()\n",
    "pos = [0, 0, 0]\n",
    "for inst in instructions:\n",
    "    pos = make_move(pos, inst)\n",
    "\n",
    "manhattan = abs(pos[0])+abs(pos[1])\n",
    "print(manhattan)"
   ]
  },
  {
   "cell_type": "markdown",
   "metadata": {},
   "source": [
    "## Part II"
   ]
  },
  {
   "cell_type": "code",
   "execution_count": 104,
   "metadata": {},
   "outputs": [],
   "source": [
    "def move_part2(pos, wp, n):\n",
    "    pos[0] += wp[0]*n\n",
    "    pos[1] += wp[1]*n\n",
    "    return pos\n",
    "\n",
    "def make_move_part2(pos, wp, inst):\n",
    "    ac = inst[0]\n",
    "    n = int(inst[1:])\n",
    "    if ac == 'F':\n",
    "        pos = move_part2(pos, wp, n)\n",
    "    elif ac == 'N':\n",
    "        wp[1] += n\n",
    "    elif ac == 'S':\n",
    "        wp[1] -= n\n",
    "    elif ac == 'E':\n",
    "        wp[0] += n\n",
    "    elif ac == 'W':\n",
    "        wp[0] -= n\n",
    "    elif ac == 'L':\n",
    "        theta = n*np.pi/180\n",
    "        R = np.array([[cos(theta), -sin(theta)], [sin(theta), cos(theta)]])\n",
    "        wp = np.round(np.matmul(R, wp))\n",
    "    elif ac == 'R':\n",
    "        theta = -n*np.pi/180\n",
    "        R = np.array([[cos(theta), -sin(theta)], [sin(theta), cos(theta)]])\n",
    "        wp = np.round(np.matmul(R, wp))\n",
    "        \n",
    "    return pos, wp"
   ]
  },
  {
   "cell_type": "code",
   "execution_count": 105,
   "metadata": {},
   "outputs": [
    {
     "name": "stdout",
     "output_type": "stream",
     "text": [
      "51249.0\n"
     ]
    }
   ],
   "source": [
    "instructions = get_input()\n",
    "pos = [0, 0]\n",
    "wp = np.array([10, 1])\n",
    "\n",
    "for inst in instructions:\n",
    "    pos, wp = make_move_part2(pos, wp, inst)\n",
    "\n",
    "manhattan = abs(pos[0])+abs(pos[1])\n",
    "print(manhattan)"
   ]
  },
  {
   "cell_type": "code",
   "execution_count": null,
   "metadata": {},
   "outputs": [],
   "source": []
  }
 ],
 "metadata": {
  "kernelspec": {
   "display_name": "Python 3",
   "language": "python",
   "name": "python3"
  },
  "language_info": {
   "codemirror_mode": {
    "name": "ipython",
    "version": 3
   },
   "file_extension": ".py",
   "mimetype": "text/x-python",
   "name": "python",
   "nbconvert_exporter": "python",
   "pygments_lexer": "ipython3",
   "version": "3.7.3"
  }
 },
 "nbformat": 4,
 "nbformat_minor": 4
}
