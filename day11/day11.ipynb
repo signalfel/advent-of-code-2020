{
 "cells": [
  {
   "cell_type": "code",
   "execution_count": 150,
   "metadata": {},
   "outputs": [],
   "source": [
    "from IPython.core.debugger import set_trace\n",
    "import copy\n",
    "from timeit import default_timer as timer"
   ]
  },
  {
   "cell_type": "code",
   "execution_count": 39,
   "metadata": {},
   "outputs": [],
   "source": [
    "def get_input(test_data=None):\n",
    "    data = test_data if test_data is not None else open('input.txt').read()\n",
    "    return [list(n) for n in data.split('\\n')]"
   ]
  },
  {
   "cell_type": "code",
   "execution_count": 187,
   "metadata": {},
   "outputs": [
    {
     "name": "stdout",
     "output_type": "stream",
     "text": [
      "2126\n",
      "2.9 s\n"
     ]
    }
   ],
   "source": [
    "neighbours = {'nw': lambda i,j: (i-1, j-1), 'n': lambda i,j: (i-1, j), 'ne': lambda i,j: (i-1, j+1),\n",
    "              'w': lambda i,j: (i, j-1), 'e': lambda i,j: (i, j+1), 'sw': lambda i,j: (i+1, j-1), \n",
    "              's': lambda i,j: (i+1, j), 'se': lambda i,j: (i+1, j+1)}\n",
    "\n",
    "def get_neighbour_indices(i, j):\n",
    "    return [(*f(i,j), d) for d,f in neighbours.items()]\n",
    "\n",
    "def get_neighbours(seats, i, j):\n",
    "    n_neighbours = 0\n",
    "    for ni, nj, d in get_neighbour_indices(i, j):\n",
    "        try:\n",
    "            if ni < 0 or nj < 0:\n",
    "                raise IndexError\n",
    "            else:\n",
    "                n_neighbours += (seats[ni][nj] == '#')\n",
    "        except IndexError:\n",
    "            pass\n",
    "    return n_neighbours\n",
    "\n",
    "def step_rules(seats):\n",
    "    new_seats = copy.deepcopy(seats)\n",
    "    nr = len(seats)\n",
    "    nc = len(seats[0])\n",
    "\n",
    "    for i in range(nr):\n",
    "        for j in range(nc):\n",
    "            if seats[i][j] == '.':\n",
    "                pass\n",
    "            elif seats[i][j] == 'L':\n",
    "                new_seats[i][j] = '#' if get_neighbours(seats, i, j) == 0 else 'L'\n",
    "            elif seats[i][j] == '#':\n",
    "                new_seats[i][j] = 'L' if get_neighbours(seats, i, j) >= 4 else '#'\n",
    "    return new_seats\n",
    "\n",
    "\n",
    "seats = get_input()\n",
    "\n",
    "t0 = timer()\n",
    "while True:\n",
    "    new_seats = step_rules(seats)\n",
    "    if new_seats == seats:\n",
    "        break\n",
    "    else:\n",
    "        seats = new_seats\n",
    "print(sum([s.count('#') for s in seats]))\n",
    "print(f'{round(timer() - t0, 1)} s')"
   ]
  },
  {
   "cell_type": "markdown",
   "metadata": {},
   "source": [
    "## Part II"
   ]
  },
  {
   "cell_type": "code",
   "execution_count": 175,
   "metadata": {},
   "outputs": [],
   "source": [
    "def whatabout_second_neighbour(i, j, d):\n",
    "    return neighbours[d](i, j)\n",
    "\n",
    "def get_neighbours_part_2(seats, i, j):\n",
    "    n_neighbours = 0\n",
    "    for d,f in neighbours.items():\n",
    "        ni, nj = f(i,j)\n",
    "        try:\n",
    "            if ni < 0 or nj < 0:\n",
    "                raise IndexError\n",
    "            while seats[ni][nj] == '.':\n",
    "                ni, nj = whatabout_second_neighbour(ni, nj, d)\n",
    "                if ni < 0 or nj < 0:\n",
    "                    raise IndexError\n",
    "            \n",
    "            n_neighbours += (seats[ni][nj] == '#')\n",
    "        except IndexError:\n",
    "            pass\n",
    "    return n_neighbours\n",
    "\n",
    "def step_rules_part_2(seats):\n",
    "    new_seats = copy.deepcopy(seats)\n",
    "    nr = len(seats)\n",
    "    nc = len(seats[0])\n",
    "    for i in range(nr):\n",
    "        for j in range(nc):\n",
    "            if seats[i][j] == '.':\n",
    "                pass\n",
    "            elif seats[i][j] == 'L':\n",
    "                new_seats[i][j] = '#' if get_neighbours_part_2(seats, i, j) == 0 else 'L'\n",
    "            elif seats[i][j] == '#':\n",
    "                new_seats[i][j] = 'L' if get_neighbours_part_2(seats, i, j) >= 5 else '#'\n",
    "    return new_seats"
   ]
  },
  {
   "cell_type": "code",
   "execution_count": 188,
   "metadata": {},
   "outputs": [
    {
     "name": "stdout",
     "output_type": "stream",
     "text": [
      "1914\n",
      "2.0 s\n"
     ]
    }
   ],
   "source": [
    "seats = get_input()\n",
    "\n",
    "t0 = timer()\n",
    "while True:\n",
    "    new_seats = step_rules_part_2(seats)\n",
    "    if new_seats == seats:\n",
    "        break\n",
    "    else:\n",
    "        seats = new_seats\n",
    "print(sum([s.count('#') for s in seats]))\n",
    "print(f'{round(timer() - t0, 1)} s')"
   ]
  },
  {
   "cell_type": "code",
   "execution_count": null,
   "metadata": {},
   "outputs": [],
   "source": []
  }
 ],
 "metadata": {
  "kernelspec": {
   "display_name": "Python 3",
   "language": "python",
   "name": "python3"
  },
  "language_info": {
   "codemirror_mode": {
    "name": "ipython",
    "version": 3
   },
   "file_extension": ".py",
   "mimetype": "text/x-python",
   "name": "python",
   "nbconvert_exporter": "python",
   "pygments_lexer": "ipython3",
   "version": "3.7.3"
  }
 },
 "nbformat": 4,
 "nbformat_minor": 4
}
