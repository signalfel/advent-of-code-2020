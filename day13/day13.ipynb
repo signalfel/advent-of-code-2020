{
 "cells": [
  {
   "cell_type": "code",
   "execution_count": 1,
   "metadata": {},
   "outputs": [],
   "source": [
    "from IPython.core.debugger import set_trace\n",
    "import pandas as pd\n",
    "import numpy as np"
   ]
  },
  {
   "cell_type": "code",
   "execution_count": 2,
   "metadata": {},
   "outputs": [],
   "source": [
    "    def get_input(test_data=None):\n",
    "        data = test_data if test_data is not None else open('input.txt').read()\n",
    "        return [n for n in data.split('\\n')]"
   ]
  },
  {
   "cell_type": "code",
   "execution_count": 3,
   "metadata": {},
   "outputs": [],
   "source": [
    "test_data = '''939\n",
    "7,13,x,x,59,x,31,19'''"
   ]
  },
  {
   "cell_type": "code",
   "execution_count": 4,
   "metadata": {},
   "outputs": [],
   "source": [
    "notes = get_input()"
   ]
  },
  {
   "cell_type": "code",
   "execution_count": 5,
   "metadata": {},
   "outputs": [],
   "source": [
    "ts = int(notes[0])\n",
    "busses = [int(c) for c in notes[1].split(',') if not c == 'x']"
   ]
  },
  {
   "cell_type": "code",
   "execution_count": 6,
   "metadata": {},
   "outputs": [],
   "source": [
    "bus_ser = pd.Series(busses)\n",
    "wait_minutes = bus_ser - (ts % bus_ser)"
   ]
  },
  {
   "cell_type": "code",
   "execution_count": 7,
   "metadata": {},
   "outputs": [],
   "source": [
    "min_wait = wait_minutes.idxmin()"
   ]
  },
  {
   "cell_type": "code",
   "execution_count": 8,
   "metadata": {},
   "outputs": [
    {
     "name": "stdout",
     "output_type": "stream",
     "text": [
      "119\n"
     ]
    }
   ],
   "source": [
    "print(wait_minutes.loc[min_wait]*bus_ser.loc[min_wait])"
   ]
  },
  {
   "cell_type": "markdown",
   "metadata": {},
   "source": [
    "## Part II"
   ]
  },
  {
   "cell_type": "code",
   "execution_count": 58,
   "metadata": {},
   "outputs": [
    {
     "data": {
      "text/plain": [
       "'7,13,x,x,59,x,31,19'"
      ]
     },
     "execution_count": 58,
     "metadata": {},
     "output_type": "execute_result"
    }
   ],
   "source": [
    "notes = get_input(test_data)\n",
    "bus_constraints = notes[1]\n",
    "bus_constraints"
   ]
  },
  {
   "cell_type": "code",
   "execution_count": 56,
   "metadata": {},
   "outputs": [],
   "source": [
    "pairs = [(i,int(b)) for i,b in enumerate(bus_constraints.split(',')) if not b =='x']\n",
    "pairs = sorted(pairs, key=lambda tup: tup[1])"
   ]
  },
  {
   "cell_type": "code",
   "execution_count": 57,
   "metadata": {},
   "outputs": [
    {
     "data": {
      "text/plain": [
       "[(36, 13),\n",
       " (40, 17),\n",
       " (35, 19),\n",
       " (0, 23),\n",
       " (52, 29),\n",
       " (17, 37),\n",
       " (95, 41),\n",
       " (54, 571),\n",
       " (23, 863)]"
      ]
     },
     "execution_count": 57,
     "metadata": {},
     "output_type": "execute_result"
    }
   ],
   "source": [
    "pairs"
   ]
  },
  {
   "cell_type": "code",
   "execution_count": 53,
   "metadata": {
    "scrolled": true
   },
   "outputs": [
    {
     "name": "stdout",
     "output_type": "stream",
     "text": [
      "1106724616194525\n"
     ]
    }
   ],
   "source": [
    "notes = get_input()\n",
    "bus_constraints = notes[1]\n",
    "bus_constraints\n",
    "pairs = [(i,int(b)) for i,b in enumerate(bus_constraints.split(',')) if not b =='x']\n",
    "pairs = sorted(pairs, key=lambda tup: tup[1])\n",
    "\n",
    "i = 0\n",
    "step = 1\n",
    "t, bt = pairs.pop(0)\n",
    "while True:\n",
    "    match = (t+i)%bt == 0\n",
    "    if match:\n",
    "        step *= bt\n",
    "        try:\n",
    "            t, bt = pairs.pop(0)\n",
    "        except IndexError:\n",
    "            break\n",
    "    i += step\n",
    "print(i)"
   ]
  },
  {
   "cell_type": "code",
   "execution_count": null,
   "metadata": {},
   "outputs": [],
   "source": []
  }
 ],
 "metadata": {
  "kernelspec": {
   "display_name": "Python 3",
   "language": "python",
   "name": "python3"
  },
  "language_info": {
   "codemirror_mode": {
    "name": "ipython",
    "version": 3
   },
   "file_extension": ".py",
   "mimetype": "text/x-python",
   "name": "python",
   "nbconvert_exporter": "python",
   "pygments_lexer": "ipython3",
   "version": "3.7.3"
  }
 },
 "nbformat": 4,
 "nbformat_minor": 4
}
