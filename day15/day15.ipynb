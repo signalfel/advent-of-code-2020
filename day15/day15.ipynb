{
 "cells": [
  {
   "cell_type": "code",
   "execution_count": 36,
   "metadata": {},
   "outputs": [],
   "source": [
    "from timeit import default_timer as timer"
   ]
  },
  {
   "cell_type": "code",
   "execution_count": 40,
   "metadata": {},
   "outputs": [],
   "source": [
    "def get_nth_number(numbers, n):\n",
    "    new_num = numbers.pop()\n",
    "    turn_numbers = {n:i+1 for i,n in enumerate(numbers)}\n",
    "    turn = len(turn_numbers)+1\n",
    "    while turn <= n:\n",
    "        last_num = new_num\n",
    "        new_num = turn - turn_numbers[last_num] if last_num in turn_numbers.keys() else 0\n",
    "        turn_numbers[last_num] = turn\n",
    "        turn += 1\n",
    "    return last_num"
   ]
  },
  {
   "cell_type": "code",
   "execution_count": 41,
   "metadata": {},
   "outputs": [
    {
     "name": "stdout",
     "output_type": "stream",
     "text": [
      "249\n",
      "0.0006837999999333988\n"
     ]
    }
   ],
   "source": [
    "numbers = [15,12,0,14,3,1]\n",
    "t0 = timer()\n",
    "print(get_nth_number(numbers, 2020))\n",
    "print(timer()-t0)"
   ]
  },
  {
   "cell_type": "markdown",
   "metadata": {},
   "source": [
    "## Part II"
   ]
  },
  {
   "cell_type": "code",
   "execution_count": 43,
   "metadata": {},
   "outputs": [
    {
     "name": "stdout",
     "output_type": "stream",
     "text": [
      "41687\n",
      "21.040551699999924\n"
     ]
    }
   ],
   "source": [
    "numbers = [15,12,0,14,3,1]\n",
    "t0 = timer()\n",
    "print(get_nth_number(numbers, 30000000))\n",
    "print(timer()-t0)"
   ]
  },
  {
   "cell_type": "code",
   "execution_count": null,
   "metadata": {},
   "outputs": [],
   "source": []
  }
 ],
 "metadata": {
  "kernelspec": {
   "display_name": "Python 3",
   "language": "python",
   "name": "python3"
  },
  "language_info": {
   "codemirror_mode": {
    "name": "ipython",
    "version": 3
   },
   "file_extension": ".py",
   "mimetype": "text/x-python",
   "name": "python",
   "nbconvert_exporter": "python",
   "pygments_lexer": "ipython3",
   "version": "3.7.3"
  }
 },
 "nbformat": 4,
 "nbformat_minor": 4
}
