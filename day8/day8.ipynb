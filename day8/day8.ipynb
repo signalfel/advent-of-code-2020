{
 "cells": [
  {
   "cell_type": "code",
   "execution_count": 1,
   "metadata": {},
   "outputs": [],
   "source": [
    "from IPython.core.debugger import set_trace"
   ]
  },
  {
   "cell_type": "code",
   "execution_count": 16,
   "metadata": {},
   "outputs": [],
   "source": [
    "def get_input_program():\n",
    "    with open('input.txt') as inp:\n",
    "        input_program = inp.read().split('\\n')\n",
    "    return input_program"
   ]
  },
  {
   "cell_type": "code",
   "execution_count": 3,
   "metadata": {},
   "outputs": [],
   "source": [
    "test_data = '''nop +0\n",
    "acc +1\n",
    "jmp +4\n",
    "acc +3\n",
    "jmp -3\n",
    "acc -99\n",
    "acc +1\n",
    "jmp -4\n",
    "acc +6'''\n",
    "program = test_data.split('\\n')"
   ]
  },
  {
   "cell_type": "code",
   "execution_count": 8,
   "metadata": {},
   "outputs": [],
   "source": [
    "class computer():\n",
    "    def __init__(self, program):\n",
    "        self.program = program\n",
    "        self.accumulator = 0\n",
    "        self.pin = 0\n",
    "        self.history = []\n",
    "    \n",
    "    def _run_instruction(self, instruction):\n",
    "        action = instruction[:3]\n",
    "        operator = instruction[4]\n",
    "        argument = instruction[5:]\n",
    "\n",
    "        self.history.append(self.pin)\n",
    "        if action == 'acc':\n",
    "            self.accumulator += int(operator+argument)\n",
    "            self.pin += 1\n",
    "        elif action == 'jmp':\n",
    "            self.pin += int(operator+argument)\n",
    "        elif action == 'nop':\n",
    "            self.pin += 1\n",
    "        \n",
    "    def run_program(self):\n",
    "        while True:\n",
    "            if self.pin in self.history:\n",
    "                return ('infinite_loop', self.accumulator)\n",
    "            elif (self.pin == len(self.program)):\n",
    "                return ('terminated', self.accumulator)\n",
    "            else:\n",
    "                self._run_instruction(self.program[self.pin])"
   ]
  },
  {
   "cell_type": "code",
   "execution_count": 18,
   "metadata": {},
   "outputs": [],
   "source": [
    "program = get_input_program()\n",
    "c = computer(program)"
   ]
  },
  {
   "cell_type": "code",
   "execution_count": 19,
   "metadata": {},
   "outputs": [
    {
     "data": {
      "text/plain": [
       "('infinite_loop', 2014)"
      ]
     },
     "execution_count": 19,
     "metadata": {},
     "output_type": "execute_result"
    }
   ],
   "source": [
    "c.run_program()"
   ]
  },
  {
   "cell_type": "markdown",
   "metadata": {},
   "source": [
    "## Part II"
   ]
  },
  {
   "cell_type": "code",
   "execution_count": 13,
   "metadata": {},
   "outputs": [],
   "source": [
    "def swap_instruction(program, index):\n",
    "    inst = program[index]\n",
    "    if inst[:3] == 'jmp':\n",
    "        inst = 'nop'+inst[3:]\n",
    "    elif inst[:3] == 'nop':\n",
    "        inst = 'jmp'+inst[3:]\n",
    "    program[index] = inst\n",
    "    return program"
   ]
  },
  {
   "cell_type": "code",
   "execution_count": 20,
   "metadata": {},
   "outputs": [
    {
     "name": "stdout",
     "output_type": "stream",
     "text": [
      "('terminated', 2251)\n"
     ]
    }
   ],
   "source": [
    "for i in range(len(input_program)):\n",
    "    program = get_input_program()\n",
    "    result = computer(swap_instruction(program, i)).run_program()\n",
    "    if result[0] == 'terminated':\n",
    "        print(result)\n",
    "        break"
   ]
  },
  {
   "cell_type": "code",
   "execution_count": null,
   "metadata": {},
   "outputs": [],
   "source": []
  }
 ],
 "metadata": {
  "kernelspec": {
   "display_name": "Python 3",
   "language": "python",
   "name": "python3"
  },
  "language_info": {
   "codemirror_mode": {
    "name": "ipython",
    "version": 3
   },
   "file_extension": ".py",
   "mimetype": "text/x-python",
   "name": "python",
   "nbconvert_exporter": "python",
   "pygments_lexer": "ipython3",
   "version": "3.7.3"
  }
 },
 "nbformat": 4,
 "nbformat_minor": 4
}
