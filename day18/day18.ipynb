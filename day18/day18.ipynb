{
 "cells": [
  {
   "cell_type": "code",
   "execution_count": 2,
   "metadata": {},
   "outputs": [],
   "source": [
    "from IPython.core.debugger import set_trace\n",
    "from timeit import default_timer as timer"
   ]
  },
  {
   "cell_type": "code",
   "execution_count": 3,
   "metadata": {},
   "outputs": [],
   "source": [
    "def get_input(test_data=None, dim=2):\n",
    "    data = test_data if test_data is not None else open('input.txt').read()\n",
    "    return data.split('\\n')"
   ]
  },
  {
   "cell_type": "code",
   "execution_count": 4,
   "metadata": {},
   "outputs": [],
   "source": [
    "test_data = '''2 * 3 + (4 * 5)\n",
    "5 + (8 * 3 + 9 + 3 * 4 * 3)\n",
    "5 * 9 * (7 * 3 * 3 + 9 * 3 + (8 + 6 * 4))\n",
    "((2 + 4 * 9) * (6 + 9 * 8 + 6) + 6) + 2 + 4 * 2'''"
   ]
  },
  {
   "cell_type": "code",
   "execution_count": 162,
   "metadata": {},
   "outputs": [],
   "source": [
    "lines = get_input()"
   ]
  },
  {
   "cell_type": "code",
   "execution_count": 164,
   "metadata": {},
   "outputs": [],
   "source": [
    "def get_eval_str(line):\n",
    "    ev_str = ''\n",
    "    n_paren = 0\n",
    "    for c in line.split(' '):\n",
    "        ev_str += c\n",
    "        if c.isnumeric():\n",
    "            n_paren +=1\n",
    "            ev_str += ')'\n",
    "    return n_paren*'('+ev_str\n",
    "\n",
    "def replace_brackets(line):\n",
    "    for i,c in enumerate(line):\n",
    "        if c == '(':\n",
    "            start = i+1\n",
    "        elif c == ')':\n",
    "            return replace_brackets(line[:start-1]+replace_brackets(line[start:i])+line[i+1:])\n",
    "    return str(eval(get_eval_str(line)))"
   ]
  },
  {
   "cell_type": "code",
   "execution_count": 175,
   "metadata": {},
   "outputs": [
    {
     "name": "stdout",
     "output_type": "stream",
     "text": [
      "74821486966872\n"
     ]
    }
   ],
   "source": [
    "print(sum([int(replace_brackets(res)) for res in lines]))"
   ]
  },
  {
   "cell_type": "markdown",
   "metadata": {},
   "source": [
    "## Part II"
   ]
  },
  {
   "cell_type": "code",
   "execution_count": 184,
   "metadata": {},
   "outputs": [],
   "source": [
    "from operator import mul\n",
    "from functools import reduce\n",
    "\n",
    "def replace_brackets_2(line):\n",
    "    for i,c in enumerate(line):\n",
    "        if c == '(':\n",
    "            start = i+1\n",
    "        elif c == ')':\n",
    "            return replace_brackets_2(line[:start-1]+replace_brackets_2(line[start:i])+line[i+1:])\n",
    "    return str(reduce(mul, [eval(f) for f in line.split('*')]))"
   ]
  },
  {
   "cell_type": "code",
   "execution_count": 182,
   "metadata": {},
   "outputs": [],
   "source": [
    "lines = get_input()"
   ]
  },
  {
   "cell_type": "code",
   "execution_count": 183,
   "metadata": {},
   "outputs": [
    {
     "name": "stdout",
     "output_type": "stream",
     "text": [
      "74821486966872\n"
     ]
    }
   ],
   "source": [
    "print(sum([int(replace_brackets(res)) for res in lines]))"
   ]
  },
  {
   "cell_type": "code",
   "execution_count": 167,
   "metadata": {},
   "outputs": [],
   "source": [
    "line = '5 * 9 * (7 * 3 * 3 + 9 * 3 + (8 + 6 * 4))'"
   ]
  },
  {
   "cell_type": "code",
   "execution_count": 168,
   "metadata": {},
   "outputs": [],
   "source": [
    "line = '8 + 6 * 4'"
   ]
  },
  {
   "cell_type": "code",
   "execution_count": 173,
   "metadata": {},
   "outputs": [
    {
     "data": {
      "text/plain": [
       "56"
      ]
     },
     "execution_count": 173,
     "metadata": {},
     "output_type": "execute_result"
    }
   ],
   "source": [
    "\n",
    "reduce(mul, [eval(f) for f in line.split('*')])\n"
   ]
  },
  {
   "cell_type": "code",
   "execution_count": 177,
   "metadata": {},
   "outputs": [],
   "source": [
    "line = '5 * 9 * (7 * 3 * 3 + 9 * 3 + (8 + 6 * 4))'"
   ]
  },
  {
   "cell_type": "code",
   "execution_count": 179,
   "metadata": {},
   "outputs": [
    {
     "data": {
      "text/plain": [
       "'669060'"
      ]
     },
     "execution_count": 179,
     "metadata": {},
     "output_type": "execute_result"
    }
   ],
   "source": [
    "replace_brackets(line)"
   ]
  }
 ],
 "metadata": {
  "kernelspec": {
   "display_name": "Python 3",
   "language": "python",
   "name": "python3"
  },
  "language_info": {
   "codemirror_mode": {
    "name": "ipython",
    "version": 3
   },
   "file_extension": ".py",
   "mimetype": "text/x-python",
   "name": "python",
   "nbconvert_exporter": "python",
   "pygments_lexer": "ipython3",
   "version": "3.7.3"
  }
 },
 "nbformat": 4,
 "nbformat_minor": 4
}
